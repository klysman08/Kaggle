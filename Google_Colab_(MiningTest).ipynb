{
  "nbformat": 4,
  "nbformat_minor": 0,
  "metadata": {
    "colab": {
      "name": "Google_Colab_(MiningTest).ipynb",
      "provenance": [],
      "collapsed_sections": [],
      "include_colab_link": true
    },
    "kernelspec": {
      "name": "python3",
      "display_name": "Python 3"
    },
    "language_info": {
      "name": "python"
    },
    "accelerator": "GPU"
  },
  "cells": [
    {
      "cell_type": "markdown",
      "metadata": {
        "id": "view-in-github",
        "colab_type": "text"
      },
      "source": [
        "<a href=\"https://colab.research.google.com/github/klysman08/Kaggle/blob/master/Google_Colab_(MiningTest).ipynb\" target=\"_parent\"><img src=\"https://colab.research.google.com/assets/colab-badge.svg\" alt=\"Open In Colab\"/></a>"
      ]
    },
    {
      "cell_type": "markdown",
      "metadata": {
        "id": "wWhnI2bYadCZ"
      },
      "source": [
        "\n",
        "Este Script é apenas para teste e para fins de aprendizagem. Ressalto que o Google Colab, é feito para ser utilizado por estudantes, programadores e entusiastas.\n",
        "\n",
        "Sucesso e Tmj!\n",
        "\n",
        "MadScript\n",
        "\n",
        "LINK QUE SERÁ UTILIZADO: https://docs.google.com/document/d/1DFyF4_v6w_A6VOBNkavQI5PGC6oogFsw/edit?usp=sharing&ouid=111847636273573710142&rtpof=true&sd=true\n",
        "\n",
        "\n"
      ]
    },
    {
      "cell_type": "code",
      "metadata": {
        "id": "7RudlGKIrBLx"
      },
      "source": [
        "https://youtu.be/NvbUvarCNNA"
      ],
      "execution_count": null,
      "outputs": []
    },
    {
      "cell_type": "code",
      "metadata": {
        "id": "VC4D7vArdX5R",
        "cellView": "form"
      },
      "source": [
        "#@title **1. GPU Check**\n",
        "!setterm -foreground blue\n",
        "!nvidia-smi"
      ],
      "execution_count": null,
      "outputs": []
    },
    {
      "cell_type": "code",
      "metadata": {
        "id": "1pcYBk1xd2Cl",
        "cellView": "form"
      },
      "source": [
        "#@title **2. User Create**\n",
        "!setterm -foreground blue\n",
        "import os,sys,time\n",
        " \n",
        "username = \"user\" #@param {type:\"string\"}\n",
        "password = \"root\" #@param {type:\"string\"}\n",
        "\n",
        "print('SSENDAM ROTSEVNI')\n",
        "print(\"User is being created...\")\n",
        " \n",
        "# Creation of user\n",
        "os.system(f\"useradd -m {username}\")\n",
        " \n",
        "# Add user to sudo group\n",
        "os.system(f\"adduser {username} sudo\")\n",
        "    \n",
        "# Set password of user to 'root'\n",
        "os.system(f\"echo '{username}:{password}' | sudo chpasswd\")\n",
        " \n",
        "# Change default shell from sh to bash\n",
        "os.system(\"sed -i 's/\\/bin\\/sh/\\/bin\\/bash/g' /etc/passwd\")\n",
        "\n",
        "for i in range(101):\n",
        "        time.sleep(0.1)\n",
        "        sys.stdout.write(\"\\rLoading script: %d%%\" % i)\n",
        "        while (i > 101):\n",
        "            os.system('cls')\n",
        "        sys.stdout.flush()\n",
        "print(\"\\nUser created successfully!\")"
      ],
      "execution_count": null,
      "outputs": []
    },
    {
      "cell_type": "code",
      "metadata": {
        "id": "SOtDyg-FgTh8",
        "cellView": "form"
      },
      "source": [
        "#@title **3. Running VPS install script**\n",
        "#@markdown  This takes 4-5 minutes to install.\n",
        "!setterm -foreground blue\n",
        "import os\n",
        "import subprocess\n",
        " \n",
        "#@markdown  First: Go to site http://remotedesktop.google.com/headless\n",
        "\n",
        "#@markdown  Second: Copy the command to authenticate VPS and paste into CRP.\n",
        "\n",
        "CRP = \"\" #@param {type:\"string\"}\n",
        " \n",
        "#@markdown The pin below will give you \"access to Google Remote.\"\n",
        "Pin = 123456 #@param {type: \"integer\"}\n",
        " \n",
        " \n",
        "class CRD:\n",
        "    def __init__(self):\n",
        "        os.system(\"apt update\")\n",
        "        self.installCRD()\n",
        "        self.installDesktopEnvironment()\n",
        "        self.installGoogleChorme()\n",
        "        self.finish()\n",
        " \n",
        "    @staticmethod\n",
        "    def installCRD():\n",
        "        print(\"Install Chrome Remote Desktop\")\n",
        "        subprocess.run(['wget', 'https://dl.google.com/linux/direct/chrome-remote-desktop_current_amd64.deb'], stdout=subprocess.PIPE)\n",
        "        subprocess.run(['dpkg', '--install', 'chrome-remote-desktop_current_amd64.deb'], stdout=subprocess.PIPE)\n",
        "        subprocess.run(['apt', 'install', '--assume-yes', '--fix-broken'], stdout=subprocess.PIPE)\n",
        " \n",
        "    @staticmethod\n",
        "    def installDesktopEnvironment():\n",
        "        print(\"Install Desktop Environment\")\n",
        "        os.system(\"export DEBIAN_FRONTEND=noninteractive\")\n",
        "        os.system(\"apt install --assume-yes xfce4 desktop-base xfce4-terminal\")\n",
        "        os.system(\"bash -c 'echo \\\"exec /etc/X11/Xsession /usr/bin/xfce4-session\\\" > /etc/chrome-remote-desktop-session'\")\n",
        "        os.system(\"apt remove --assume-yes gnome-terminal\")\n",
        "        os.system(\"apt install --assume-yes xscreensaver\")\n",
        "        os.system(\"systemctl disable lightdm.service\")\n",
        " \n",
        "    @staticmethod\n",
        "    def installGoogleChorme():\n",
        "        print(\"Install Google Chrome\")\n",
        "        subprocess.run([\"wget\", \"https://dl.google.com/linux/direct/google-chrome-stable_current_amd64.deb\"], stdout=subprocess.PIPE)\n",
        "        subprocess.run([\"dpkg\", \"--install\", \"google-chrome-stable_current_amd64.deb\"], stdout=subprocess.PIPE)\n",
        "        subprocess.run(['apt', 'install', '--assume-yes', '--fix-broken'], stdout=subprocess.PIPE)\n",
        " \n",
        "    @staticmethod\n",
        "    def finish():\n",
        "        print(\"Finishing\")\n",
        "        os.system(f\"adduser {username} chrome-remote-desktop\")\n",
        "        command = f\"{CRP} --pin={Pin}\"\n",
        "        os.system(f\"su - {username} -c '{command}'\")\n",
        "        os.system(\"service chrome-remote-desktop start\")\n",
        "        print(\"VPS successfully created.\")\n",
        " \n",
        " \n",
        "try:\n",
        "    if username:\n",
        "        if CRP == \"\":\n",
        "            print(\"Enter the authentication code from the link provided.\")\n",
        "        elif len(str(Pin)) < 6:\n",
        "            print(\"Enter a PIN with 6 digits or more.\")\n",
        "        else:\n",
        "            CRD()\n",
        "except NameError as e:\n",
        "    print(\"username not found!\")\n",
        "    print(\"Run the user creation script\")"
      ],
      "execution_count": null,
      "outputs": []
    },
    {
      "cell_type": "code",
      "metadata": {
        "id": "-mVNI_PPjB-a",
        "cellView": "form"
      },
      "source": [
        "#@title **4. Make Alive VPS 12 Hours** \n",
        "#@markdown  First: Press CTRL + SHIFT + I and Run Script \"Auto-click\".\n",
        "\n",
        "#@markdown  Second: Run Script VPS 12 Hours.\n",
        "\n",
        "import time\n",
        "!setterm -foreground blue\n",
        "!nvidia-smi\n",
        "alive = True #@param {type:'boolean'}\n",
        "!\n",
        "temps = 0\n",
        "sec = 3600\n",
        "while(temps < 43200):\n",
        "  if(temps == sec):\n",
        "    sec += 3600\n",
        "    x = (temps/60)/60\n",
        "    print(\"It's been \",x,\" mining hour...\")\n",
        "  time.sleep(1)\n",
        "  temps += 1"
      ],
      "execution_count": null,
      "outputs": []
    }
  ]
}