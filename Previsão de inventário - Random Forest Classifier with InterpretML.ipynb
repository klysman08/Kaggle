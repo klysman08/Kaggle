{
 "cells": [
  {
   "cell_type": "code",
   "execution_count": 7,
   "metadata": {
    "_cell_guid": "0e072ec5-6c75-4fb7-bcce-9588c417d663",
    "_uuid": "5911787e-f8c1-4744-9d1a-b37fddabfa1f"
   },
   "outputs": [],
   "source": [
    "# Módulos utilizados\n",
    "import pandas as pd\n",
    "import numpy as np\n",
    "\n",
    "\n",
    "from sklearn.ensemble import RandomForestClassifier\n",
    "from sklearn.decomposition import PCA\n",
    "from sklearn.pipeline import Pipeline\n",
    "\n",
    "from sklearn.model_selection import train_test_split"
   ]
  },
  {
   "cell_type": "code",
   "execution_count": 8,
   "metadata": {},
   "outputs": [],
   "source": [
    "# Leitura dos arquivos, preenchendo valores faltantes com -1\n",
    "train = pd.read_csv('train.csv', index_col='sku').fillna(-1)\n",
    "test = pd.read_csv('test.csv', index_col='sku').fillna(-1)"
   ]
  },
  {
   "cell_type": "code",
   "execution_count": 9,
   "metadata": {},
   "outputs": [],
   "source": [
    "# Separação de atributos de entrada (X) e saída (y)\n",
    "X_train, y_train = train.drop('isBackorder', axis=1), train['isBackorder']"
   ]
  },
  {
   "cell_type": "code",
   "execution_count": 10,
   "metadata": {},
   "outputs": [],
   "source": [
    "seed = 1\n",
    "X_train, X_test, y_train, y_test = train_test_split(X_train, y_train, test_size=0.20, random_state=seed)"
   ]
  },
  {
   "cell_type": "code",
   "execution_count": 11,
   "metadata": {},
   "outputs": [
    {
     "data": {
      "text/plain": [
       "Pipeline(memory=None,\n",
       "         steps=[('pca',\n",
       "                 PCA(copy=True, iterated_power='auto', n_components=None,\n",
       "                     random_state=None, svd_solver='auto', tol=0.0,\n",
       "                     whiten=False)),\n",
       "                ('rf',\n",
       "                 RandomForestClassifier(bootstrap=True, class_weight=None,\n",
       "                                        criterion='gini', max_depth=None,\n",
       "                                        max_features='auto',\n",
       "                                        max_leaf_nodes=None,\n",
       "                                        min_impurity_decrease=0.0,\n",
       "                                        min_impurity_split=None,\n",
       "                                        min_samples_leaf=1, min_samples_split=2,\n",
       "                                        min_weight_fraction_leaf=0.0,\n",
       "                                        n_estimators=30, n_jobs=-1,\n",
       "                                        oob_score=False, random_state=64,\n",
       "                                        verbose=0, warm_start=False))],\n",
       "         verbose=False)"
      ]
     },
     "execution_count": 11,
     "metadata": {},
     "output_type": "execute_result"
    }
   ],
   "source": [
    "pca = PCA()\n",
    "rf = RandomForestClassifier(n_estimators=30, random_state=64, n_jobs=-1)\n",
    "\n",
    "blackbox_model = Pipeline([('pca', pca), ('rf', rf)])\n",
    "blackbox_model.fit(X_train, y_train)"
   ]
  },
  {
   "cell_type": "code",
   "execution_count": 12,
   "metadata": {},
   "outputs": [
    {
     "data": {
      "text/html": [
       "<!-- http://127.0.0.1:7101/1809122634056/ -->\n",
       "<iframe src=\"http://127.0.0.1:7101/1809122634056/\" width=100% height=800 frameBorder=\"0\"></iframe>"
      ]
     },
     "metadata": {},
     "output_type": "display_data"
    }
   ],
   "source": [
    "from interpret import show\n",
    "from interpret.perf import ROC\n",
    "\n",
    "blackbox_perf = ROC(blackbox_model.predict_proba).explain_perf(X_test, y_test, name='Blackbox')\n",
    "show(blackbox_perf)"
   ]
  },
  {
   "cell_type": "code",
   "execution_count": 13,
   "metadata": {},
   "outputs": [
    {
     "name": "stderr",
     "output_type": "stream",
     "text": [
      "c:\\users\\klysm_000\\appdata\\local\\programs\\python\\python37\\lib\\site-packages\\sklearn\\linear_model\\ridge.py:147: LinAlgWarning:\n",
      "\n",
      "Ill-conditioned matrix (rcond=4.45231e-27): result may not be accurate.\n",
      "\n",
      "c:\\users\\klysm_000\\appdata\\local\\programs\\python\\python37\\lib\\site-packages\\sklearn\\linear_model\\ridge.py:147: LinAlgWarning:\n",
      "\n",
      "Ill-conditioned matrix (rcond=5.72876e-27): result may not be accurate.\n",
      "\n",
      "c:\\users\\klysm_000\\appdata\\local\\programs\\python\\python37\\lib\\site-packages\\sklearn\\linear_model\\ridge.py:147: LinAlgWarning:\n",
      "\n",
      "Ill-conditioned matrix (rcond=5.77946e-27): result may not be accurate.\n",
      "\n",
      "c:\\users\\klysm_000\\appdata\\local\\programs\\python\\python37\\lib\\site-packages\\sklearn\\linear_model\\ridge.py:147: LinAlgWarning:\n",
      "\n",
      "Ill-conditioned matrix (rcond=6.53251e-43): result may not be accurate.\n",
      "\n",
      "c:\\users\\klysm_000\\appdata\\local\\programs\\python\\python37\\lib\\site-packages\\sklearn\\linear_model\\ridge.py:147: LinAlgWarning:\n",
      "\n",
      "Ill-conditioned matrix (rcond=5.71372e-27): result may not be accurate.\n",
      "\n"
     ]
    },
    {
     "data": {
      "text/html": [
       "<!-- http://127.0.0.1:7101/1808352640584/ -->\n",
       "<iframe src=\"http://127.0.0.1:7101/1808352640584/\" width=100% height=800 frameBorder=\"0\"></iframe>"
      ]
     },
     "metadata": {},
     "output_type": "display_data"
    }
   ],
   "source": [
    "from interpret.blackbox import LimeTabular\n",
    "from interpret import show\n",
    "\n",
    "#Blackbox explainers need a predict function, and optionally a dataset\n",
    "lime = LimeTabular(predict_fn=blackbox_model.predict_proba, data=X_train, random_state=1)\n",
    "\n",
    "#Pick the instances to explain, optionally pass in labels if you have them\n",
    "lime_local = lime.explain_local(X_test[:5], y_test[:5], name='LIME')\n",
    "\n",
    "show(lime_local)"
   ]
  },
  {
   "cell_type": "code",
   "execution_count": 15,
   "metadata": {},
   "outputs": [
    {
     "data": {
      "application/vnd.jupyter.widget-view+json": {
       "model_id": "db7208a71f904b7ea82cf7047b30f109",
       "version_major": 2,
       "version_minor": 0
      },
      "text/plain": [
       "HBox(children=(IntProgress(value=0, max=5), HTML(value='')))"
      ]
     },
     "metadata": {},
     "output_type": "display_data"
    },
    {
     "name": "stderr",
     "output_type": "stream",
     "text": [
      "c:\\users\\klysm_000\\appdata\\local\\programs\\python\\python37\\lib\\site-packages\\shap\\explainers\\kernel.py:555: UserWarning:\n",
      "\n",
      "l1_reg=\"auto\" is deprecated and in the next version (v0.29) the behavior will change from a conditional use of AIC to simply \"num_features(10)\"!\n",
      "\n",
      "c:\\users\\klysm_000\\appdata\\local\\programs\\python\\python37\\lib\\site-packages\\shap\\explainers\\kernel.py:555: UserWarning:\n",
      "\n",
      "l1_reg=\"auto\" is deprecated and in the next version (v0.29) the behavior will change from a conditional use of AIC to simply \"num_features(10)\"!\n",
      "\n",
      "c:\\users\\klysm_000\\appdata\\local\\programs\\python\\python37\\lib\\site-packages\\shap\\explainers\\kernel.py:555: UserWarning:\n",
      "\n",
      "l1_reg=\"auto\" is deprecated and in the next version (v0.29) the behavior will change from a conditional use of AIC to simply \"num_features(10)\"!\n",
      "\n",
      "c:\\users\\klysm_000\\appdata\\local\\programs\\python\\python37\\lib\\site-packages\\shap\\explainers\\kernel.py:555: UserWarning:\n",
      "\n",
      "l1_reg=\"auto\" is deprecated and in the next version (v0.29) the behavior will change from a conditional use of AIC to simply \"num_features(10)\"!\n",
      "\n",
      "c:\\users\\klysm_000\\appdata\\local\\programs\\python\\python37\\lib\\site-packages\\shap\\explainers\\kernel.py:555: UserWarning:\n",
      "\n",
      "l1_reg=\"auto\" is deprecated and in the next version (v0.29) the behavior will change from a conditional use of AIC to simply \"num_features(10)\"!\n",
      "\n"
     ]
    },
    {
     "name": "stdout",
     "output_type": "stream",
     "text": [
      "\n"
     ]
    },
    {
     "data": {
      "text/html": [
       "<!-- http://127.0.0.1:7101/1808692595336/ -->\n",
       "<iframe src=\"http://127.0.0.1:7101/1808692595336/\" width=100% height=800 frameBorder=\"0\"></iframe>"
      ]
     },
     "metadata": {},
     "output_type": "display_data"
    }
   ],
   "source": [
    "from interpret.blackbox import ShapKernel\n",
    "import numpy as np\n",
    "feature_names = list(X_train.columns)\n",
    "\n",
    "background_val = np.median(X_train, axis=0).reshape(1, -1)\n",
    "shap = ShapKernel(predict_fn=blackbox_model.predict_proba, data=background_val, feature_names=feature_names)\n",
    "shap_local = shap.explain_local(X_test[:5], y_test[:5], name='SHAP')\n",
    "show(shap_local)"
   ]
  },
  {
   "cell_type": "code",
   "execution_count": 16,
   "metadata": {},
   "outputs": [
    {
     "data": {
      "text/html": [
       "<!-- http://127.0.0.1:7101/1809122635464/ -->\n",
       "<iframe src=\"http://127.0.0.1:7101/1809122635464/\" width=100% height=800 frameBorder=\"0\"></iframe>"
      ]
     },
     "metadata": {},
     "output_type": "display_data"
    }
   ],
   "source": [
    "from interpret.blackbox import MorrisSensitivity\n",
    "\n",
    "sensitivity = MorrisSensitivity(predict_fn=blackbox_model.predict_proba, data=X_train)\n",
    "sensitivity_global = sensitivity.explain_global(name=\"Global Sensitivity\")\n",
    "\n",
    "show(sensitivity_global)"
   ]
  },
  {
   "cell_type": "code",
   "execution_count": 17,
   "metadata": {},
   "outputs": [
    {
     "data": {
      "text/html": [
       "<!-- http://127.0.0.1:7101/1808720100808/ -->\n",
       "<iframe src=\"http://127.0.0.1:7101/1808720100808/\" width=100% height=800 frameBorder=\"0\"></iframe>"
      ]
     },
     "metadata": {},
     "output_type": "display_data"
    }
   ],
   "source": [
    "from interpret.blackbox import PartialDependence\n",
    "\n",
    "pdp = PartialDependence(predict_fn=blackbox_model.predict_proba, data=X_train)\n",
    "pdp_global = pdp.explain_global(name='Partial Dependence')\n",
    "\n",
    "show(pdp_global)"
   ]
  },
  {
   "cell_type": "code",
   "execution_count": 18,
   "metadata": {},
   "outputs": [
    {
     "data": {
      "text/html": [
       "<!-- http://127.0.0.1:7101/1808701605384/ -->\n",
       "<a href=\"http://127.0.0.1:7101/1808701605384/\" target=\"_new\">Open in new window</a><iframe src=\"http://127.0.0.1:7101/1808701605384/\" width=100% height=800 frameBorder=\"0\"></iframe>"
      ]
     },
     "metadata": {},
     "output_type": "display_data"
    }
   ],
   "source": [
    "show([blackbox_perf, lime_local, shap_local, sensitivity_global, pdp_global])"
   ]
  },
  {
   "cell_type": "code",
   "execution_count": 19,
   "metadata": {},
   "outputs": [
    {
     "ename": "NameError",
     "evalue": "name 'model' is not defined",
     "output_type": "error",
     "traceback": [
      "\u001b[1;31m---------------------------------------------------------------------------\u001b[0m",
      "\u001b[1;31mNameError\u001b[0m                                 Traceback (most recent call last)",
      "\u001b[1;32m<ipython-input-19-669961fb7e1f>\u001b[0m in \u001b[0;36m<module>\u001b[1;34m\u001b[0m\n\u001b[0;32m      1\u001b[0m \u001b[1;31m# Predição da probabilidade de falta (y) para novos valores\u001b[0m\u001b[1;33m\u001b[0m\u001b[1;33m\u001b[0m\u001b[1;33m\u001b[0m\u001b[0m\n\u001b[1;32m----> 2\u001b[1;33m \u001b[0my_pred\u001b[0m \u001b[1;33m=\u001b[0m \u001b[0mmodel\u001b[0m\u001b[1;33m.\u001b[0m\u001b[0mpredict_proba\u001b[0m\u001b[1;33m(\u001b[0m\u001b[0mtest\u001b[0m\u001b[1;33m)\u001b[0m\u001b[1;33m[\u001b[0m\u001b[1;33m:\u001b[0m\u001b[1;33m,\u001b[0m\u001b[1;36m1\u001b[0m\u001b[1;33m]\u001b[0m\u001b[1;33m\u001b[0m\u001b[1;33m\u001b[0m\u001b[0m\n\u001b[0m",
      "\u001b[1;31mNameError\u001b[0m: name 'model' is not defined"
     ]
    }
   ],
   "source": [
    "# Predição da probabilidade de falta (y) para novos valores\n",
    "y_pred = model.predict_proba(test)[:,1]"
   ]
  },
  {
   "cell_type": "code",
   "execution_count": null,
   "metadata": {},
   "outputs": [],
   "source": [
    "# Cria e salva arquivo para submissão\n",
    "test['isBackorder'] = y_pred\n",
    "pred = test['isBackorder'].reset_index()\n",
    "pred.to_csv('submissionML2-1.csv',index=False)"
   ]
  },
  {
   "cell_type": "code",
   "execution_count": null,
   "metadata": {},
   "outputs": [],
   "source": []
  }
 ],
 "metadata": {
  "kernelspec": {
   "display_name": "Python 3",
   "language": "python",
   "name": "python3"
  },
  "language_info": {
   "codemirror_mode": {
    "name": "ipython",
    "version": 3
   },
   "file_extension": ".py",
   "mimetype": "text/x-python",
   "name": "python",
   "nbconvert_exporter": "python",
   "pygments_lexer": "ipython3",
   "version": "3.7.4"
  }
 },
 "nbformat": 4,
 "nbformat_minor": 1
}
