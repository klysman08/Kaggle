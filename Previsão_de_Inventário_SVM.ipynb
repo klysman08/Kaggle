{
  "nbformat": 4,
  "nbformat_minor": 0,
  "metadata": {
    "kernelspec": {
      "name": "python3",
      "display_name": "Python 3"
    },
    "language_info": {
      "codemirror_mode": {
        "name": "ipython",
        "version": 3
      },
      "file_extension": ".py",
      "mimetype": "text/x-python",
      "name": "python",
      "nbconvert_exporter": "python",
      "pygments_lexer": "ipython3",
      "version": "3.7.4"
    },
    "colab": {
      "name": "Previsão de Inventário - SVM.ipynb",
      "provenance": [],
      "include_colab_link": true
    },
    "accelerator": "GPU"
  },
  "cells": [
    {
      "cell_type": "markdown",
      "metadata": {
        "id": "view-in-github",
        "colab_type": "text"
      },
      "source": [
        "<a href=\"https://colab.research.google.com/github/klysman08/Keggle/blob/master/Previs%C3%A3o_de_Invent%C3%A1rio_SVM.ipynb\" target=\"_parent\"><img src=\"https://colab.research.google.com/assets/colab-badge.svg\" alt=\"Open In Colab\"/></a>"
      ]
    },
    {
      "cell_type": "code",
      "metadata": {
        "id": "Jcb4khBRe4b4",
        "colab_type": "code",
        "colab": {}
      },
      "source": [
        "# Módulos utilizados\n",
        "import pandas as pd\n",
        "import numpy as np\n",
        "#from sklearn.ensemble import RandomForestClassifier\n",
        "from sklearn.svm import SVC\n"
      ],
      "execution_count": 0,
      "outputs": []
    },
    {
      "cell_type": "code",
      "metadata": {
        "id": "4Q6RtEGIfl2m",
        "colab_type": "code",
        "outputId": "cc7f5d07-f3ae-4eec-c212-36b88f990cc1",
        "colab": {
          "base_uri": "https://localhost:8080/",
          "height": 120
        }
      },
      "source": [
        "from google.colab import drive\n",
        "drive.mount('/content/drive')"
      ],
      "execution_count": 0,
      "outputs": [
        {
          "output_type": "stream",
          "text": [
            "Go to this URL in a browser: https://accounts.google.com/o/oauth2/auth?client_id=947318989803-6bn6qk8qdgf4n4g3pfee6491hc0brc4i.apps.googleusercontent.com&redirect_uri=urn%3Aietf%3Awg%3Aoauth%3A2.0%3Aoob&scope=email%20https%3A%2F%2Fwww.googleapis.com%2Fauth%2Fdocs.test%20https%3A%2F%2Fwww.googleapis.com%2Fauth%2Fdrive%20https%3A%2F%2Fwww.googleapis.com%2Fauth%2Fdrive.photos.readonly%20https%3A%2F%2Fwww.googleapis.com%2Fauth%2Fpeopleapi.readonly&response_type=code\n",
            "\n",
            "Enter your authorization code:\n",
            "··········\n",
            "Mounted at /content/drive\n"
          ],
          "name": "stdout"
        }
      ]
    },
    {
      "cell_type": "code",
      "metadata": {
        "id": "6lwJYk48e4b9",
        "colab_type": "code",
        "outputId": "74b2c98a-fdf8-4708-b2a8-1f5009a60435",
        "colab": {
          "base_uri": "https://localhost:8080/",
          "height": 50
        }
      },
      "source": [
        "# Leitura dos arquivos, preenchendo valores faltantes com -1\n",
        "#train = pd.read_csv('train.csv', index_col='sku').fillna(-1)\n",
        "#test = pd.read_csv('test.csv', index_col='sku').fillna(-1)\n",
        "\n",
        "train = pd.read_csv('drive/My Drive/Machine Learning/Previsão de inventário/train.csv', index_col='sku').fillna(-1)\n",
        "test = pd.read_csv('drive/My Drive/Machine Learning/Previsão de inventário/test.csv', index_col='sku').fillna(-1)"
      ],
      "execution_count": 0,
      "outputs": [
        {
          "output_type": "stream",
          "text": [
            "/usr/local/lib/python3.6/dist-packages/IPython/core/interactiveshell.py:2718: DtypeWarning: Columns (0) have mixed types. Specify dtype option on import or set low_memory=False.\n",
            "  interactivity=interactivity, compiler=compiler, result=result)\n"
          ],
          "name": "stderr"
        }
      ]
    },
    {
      "cell_type": "code",
      "metadata": {
        "id": "YsijoiChe4cB",
        "colab_type": "code",
        "colab": {}
      },
      "source": [
        "# Separação de atributos de entrada (X) e saída (y)\n",
        "X_train, y_train = train.drop('isBackorder', axis=1), train['isBackorder']"
      ],
      "execution_count": 0,
      "outputs": []
    },
    {
      "cell_type": "code",
      "metadata": {
        "id": "EpB5QjH7e4cD",
        "colab_type": "code",
        "colab": {}
      },
      "source": [
        "# Ajuste do modelo de Regressão Logística\n",
        "#model = RandomForestClassifier(n_estimators=32, random_state=4, criterion='entropy', min_samples_split=4)\n",
        "model = SVC(kernel=\"poly\", degree=5, coef0=1, C=1., gamma='auto')\n",
        "model.fit(X_train, y_train)"
      ],
      "execution_count": 0,
      "outputs": []
    },
    {
      "cell_type": "code",
      "metadata": {
        "id": "nwrURrW-e4cG",
        "colab_type": "code",
        "colab": {}
      },
      "source": [
        "y_pred = model.predict_proba(test)[:,1]"
      ],
      "execution_count": 0,
      "outputs": []
    },
    {
      "cell_type": "code",
      "metadata": {
        "id": "LbnZ4oZXe4cL",
        "colab_type": "code",
        "colab": {}
      },
      "source": [
        "# Cria e salva arquivo para submissão\n",
        "test['isBackorder'] = y_pred\n",
        "pred = test['isBackorder'].reset_index()\n",
        "pred.to_csv('submission1-9.csv',index=False)"
      ],
      "execution_count": 0,
      "outputs": []
    },
    {
      "cell_type": "code",
      "metadata": {
        "id": "s-Ih-fdUe4cN",
        "colab_type": "code",
        "colab": {}
      },
      "source": [
        ""
      ],
      "execution_count": 0,
      "outputs": []
    }
  ]
}