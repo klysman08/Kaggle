{
  "nbformat": 4,
  "nbformat_minor": 0,
  "metadata": {
    "colab": {
      "name": "Previsão de inventário - Keras.ipynb",
      "provenance": [],
      "include_colab_link": true
    },
    "kernelspec": {
      "name": "python3",
      "display_name": "Python 3"
    },
    "accelerator": "GPU"
  },
  "cells": [
    {
      "cell_type": "markdown",
      "metadata": {
        "id": "view-in-github",
        "colab_type": "text"
      },
      "source": [
        "<a href=\"https://colab.research.google.com/github/klysman08/Keggle/blob/master/Previs%C3%A3o_de_invent%C3%A1rio_Keras.ipynb\" target=\"_parent\"><img src=\"https://colab.research.google.com/assets/colab-badge.svg\" alt=\"Open In Colab\"/></a>"
      ]
    },
    {
      "cell_type": "markdown",
      "metadata": {
        "id": "92fDg5glcCkl",
        "colab_type": "text"
      },
      "source": [
        "##Carregando os modúlos\n"
      ]
    },
    {
      "cell_type": "code",
      "metadata": {
        "id": "NRzCula_RFqu",
        "colab_type": "code",
        "colab": {}
      },
      "source": [
        "# Módulos utilizados\n",
        "import numpy as np\n",
        "import pandas as pd\n",
        "\n",
        "from keras.models import Sequential\n",
        "from keras.layers import Dense, Dropout\n",
        "from keras.optimizers import SGD\n"
      ],
      "execution_count": 0,
      "outputs": []
    },
    {
      "cell_type": "markdown",
      "metadata": {
        "id": "jUVvT0DHcHEQ",
        "colab_type": "text"
      },
      "source": [
        "##Comando para acessar os arquivos diretamente do google drive"
      ]
    },
    {
      "cell_type": "code",
      "metadata": {
        "id": "YjoShf11bmsF",
        "colab_type": "code",
        "colab": {
          "base_uri": "https://localhost:8080/",
          "height": 120
        },
        "outputId": "bffa9cd4-9a29-4d4e-cc09-0b5376d6a674"
      },
      "source": [
        "from google.colab import drive\n",
        "drive.mount('/content/drive')"
      ],
      "execution_count": 4,
      "outputs": [
        {
          "output_type": "stream",
          "text": [
            "Go to this URL in a browser: https://accounts.google.com/o/oauth2/auth?client_id=947318989803-6bn6qk8qdgf4n4g3pfee6491hc0brc4i.apps.googleusercontent.com&redirect_uri=urn%3Aietf%3Awg%3Aoauth%3A2.0%3Aoob&scope=email%20https%3A%2F%2Fwww.googleapis.com%2Fauth%2Fdocs.test%20https%3A%2F%2Fwww.googleapis.com%2Fauth%2Fdrive%20https%3A%2F%2Fwww.googleapis.com%2Fauth%2Fdrive.photos.readonly%20https%3A%2F%2Fwww.googleapis.com%2Fauth%2Fpeopleapi.readonly&response_type=code\n",
            "\n",
            "Enter your authorization code:\n",
            "··········\n",
            "Mounted at /content/drive\n"
          ],
          "name": "stdout"
        }
      ]
    },
    {
      "cell_type": "markdown",
      "metadata": {
        "id": "4GUbET4_cM6b",
        "colab_type": "text"
      },
      "source": [
        "##Importando o dataset"
      ]
    },
    {
      "cell_type": "code",
      "metadata": {
        "id": "OU7FOmr1RJga",
        "colab_type": "code",
        "colab": {
          "base_uri": "https://localhost:8080/",
          "height": 50
        },
        "outputId": "50200346-d462-46e2-9837-c9500335a248"
      },
      "source": [
        "# Leitura dos arquivos, preenchendo valores faltantes com -1\n",
        "#train = pd.read_csv('train.csv', index_col='sku').fillna(-1)\n",
        "#test = pd.read_csv('test.csv', index_col='sku').fillna(-1)\n",
        "\n",
        "train = pd.read_csv('drive/My Drive/Machine Learning/Previsão de inventário/train.csv', index_col='sku').fillna(-1)\n",
        "test = pd.read_csv('drive/My Drive/Machine Learning/Previsão de inventário/test.csv', index_col='sku').fillna(-1)\n",
        "\n"
      ],
      "execution_count": 5,
      "outputs": [
        {
          "output_type": "stream",
          "text": [
            "/usr/local/lib/python3.6/dist-packages/IPython/core/interactiveshell.py:2718: DtypeWarning: Columns (0) have mixed types. Specify dtype option on import or set low_memory=False.\n",
            "  interactivity=interactivity, compiler=compiler, result=result)\n"
          ],
          "name": "stderr"
        }
      ]
    },
    {
      "cell_type": "code",
      "metadata": {
        "id": "uW7LIuAFc95v",
        "colab_type": "code",
        "colab": {
          "base_uri": "https://localhost:8080/",
          "height": 266
        },
        "outputId": "050ca34b-3b1d-484d-d76e-cc258ae4299b"
      },
      "source": [
        "train.subtract"
      ],
      "execution_count": 6,
      "outputs": [
        {
          "output_type": "execute_result",
          "data": {
            "text/plain": [
              "<bound method _arith_method_FRAME.<locals>.f of          national_inv  lead_time  ...  rev_stop  isBackorder\n",
              "sku                               ...                       \n",
              "1987420           5.0        2.0  ...         0            0\n",
              "2171592          17.0        8.0  ...         0            0\n",
              "3135863          11.0       10.0  ...         0            0\n",
              "3108843           6.0        2.0  ...         0            0\n",
              "2978127         180.0        8.0  ...         0            0\n",
              "...               ...        ...  ...       ...          ...\n",
              "1971041          62.0       -1.0  ...         0            0\n",
              "3331163         784.0        2.0  ...         0            0\n",
              "3403234          26.0       -1.0  ...         0            0\n",
              "1926569           5.0       -1.0  ...         0            0\n",
              "1905173         148.0        9.0  ...         0            0\n",
              "\n",
              "[1350955 rows x 22 columns]>"
            ]
          },
          "metadata": {
            "tags": []
          },
          "execution_count": 6
        }
      ]
    },
    {
      "cell_type": "markdown",
      "metadata": {
        "id": "hn0CoCoNcREF",
        "colab_type": "text"
      },
      "source": [
        "##Separação de atributos de entrada (X) e saída (y)"
      ]
    },
    {
      "cell_type": "code",
      "metadata": {
        "id": "tG8R1uOVRLVn",
        "colab_type": "code",
        "colab": {}
      },
      "source": [
        "# Separação de atributos de entrada (X) e saída (y)\n",
        "X_train, y_train = train.drop('isBackorder', axis=1), train['isBackorder']"
      ],
      "execution_count": 0,
      "outputs": []
    },
    {
      "cell_type": "code",
      "metadata": {
        "id": "smC5X-FIVRxE",
        "colab_type": "code",
        "colab": {
          "base_uri": "https://localhost:8080/",
          "height": 300
        },
        "outputId": "95f9ae6d-8a87-4934-8338-6a5cb96c10b1"
      },
      "source": [
        "print(X_train.shape)\n",
        "print(y_train.shape)\n",
        "print(test)"
      ],
      "execution_count": 8,
      "outputs": [
        {
          "output_type": "stream",
          "text": [
            "(1350955, 21)\n",
            "(1350955,)\n",
            "         national_inv  lead_time  ...  stop_auto_buy  rev_stop\n",
            "sku                               ...                         \n",
            "3464610          46.0        8.0  ...              1         0\n",
            "2949993         248.0        4.0  ...              0         0\n",
            "1335649           3.0        4.0  ...              1         0\n",
            "3178597          13.0        2.0  ...              1         0\n",
            "1885965          46.0        8.0  ...              1         0\n",
            "...               ...        ...  ...            ...       ...\n",
            "1184635         230.0        2.0  ...              1         0\n",
            "1937512           5.0        8.0  ...              1         0\n",
            "1658698           9.0       -1.0  ...              1         0\n",
            "1365873           9.0        2.0  ...              1         0\n",
            "1225032           3.0        4.0  ...              1         0\n",
            "\n",
            "[578982 rows x 21 columns]\n"
          ],
          "name": "stdout"
        }
      ]
    },
    {
      "cell_type": "markdown",
      "metadata": {
        "id": "ND1ZdnEycVnD",
        "colab_type": "text"
      },
      "source": [
        "##Criando o modelo de rede neural para o aprendizado profundo"
      ]
    },
    {
      "cell_type": "code",
      "metadata": {
        "id": "N24RoIJLRMW_",
        "colab_type": "code",
        "colab": {
          "base_uri": "https://localhost:8080/",
          "height": 953
        },
        "outputId": "85c178ce-26be-4dd5-b2cd-b3790c7f5e75"
      },
      "source": [
        "# Ajuste do modelo de sequencial\n",
        "model = Sequential()\n",
        "\n",
        "\n",
        "model = Sequential()\n",
        "model.add(Dense(64, input_dim=21, activation='relu'))\n",
        "model.add(Dropout(0.5))\n",
        "model.add(Dense(64, activation='relu'))\n",
        "model.add(Dropout(0.5))\n",
        "model.add(Dense(64, activation='relu'))\n",
        "model.add(Dropout(0.5))\n",
        "model.add(Dense(64, activation='relu'))\n",
        "model.add(Dropout(0.5))\n",
        "model.add(Dense(1, activation='sigmoid'))\n",
        "\n",
        "model.compile(loss='binary_crossentropy',\n",
        "              optimizer='rmsprop',\n",
        "              metrics=['accuracy'])\n",
        "\n",
        "model.fit(X_train, y_train,\n",
        "          epochs=10,\n",
        "          batch_size=128)"
      ],
      "execution_count": 9,
      "outputs": [
        {
          "output_type": "stream",
          "text": [
            "WARNING:tensorflow:From /usr/local/lib/python3.6/dist-packages/keras/backend/tensorflow_backend.py:66: The name tf.get_default_graph is deprecated. Please use tf.compat.v1.get_default_graph instead.\n",
            "\n",
            "WARNING:tensorflow:From /usr/local/lib/python3.6/dist-packages/keras/backend/tensorflow_backend.py:541: The name tf.placeholder is deprecated. Please use tf.compat.v1.placeholder instead.\n",
            "\n",
            "WARNING:tensorflow:From /usr/local/lib/python3.6/dist-packages/keras/backend/tensorflow_backend.py:4432: The name tf.random_uniform is deprecated. Please use tf.random.uniform instead.\n",
            "\n",
            "WARNING:tensorflow:From /usr/local/lib/python3.6/dist-packages/keras/backend/tensorflow_backend.py:148: The name tf.placeholder_with_default is deprecated. Please use tf.compat.v1.placeholder_with_default instead.\n",
            "\n",
            "WARNING:tensorflow:From /usr/local/lib/python3.6/dist-packages/keras/backend/tensorflow_backend.py:3733: calling dropout (from tensorflow.python.ops.nn_ops) with keep_prob is deprecated and will be removed in a future version.\n",
            "Instructions for updating:\n",
            "Please use `rate` instead of `keep_prob`. Rate should be set to `rate = 1 - keep_prob`.\n",
            "WARNING:tensorflow:From /usr/local/lib/python3.6/dist-packages/keras/optimizers.py:793: The name tf.train.Optimizer is deprecated. Please use tf.compat.v1.train.Optimizer instead.\n",
            "\n",
            "WARNING:tensorflow:From /usr/local/lib/python3.6/dist-packages/keras/backend/tensorflow_backend.py:3657: The name tf.log is deprecated. Please use tf.math.log instead.\n",
            "\n",
            "WARNING:tensorflow:From /usr/local/lib/python3.6/dist-packages/tensorflow_core/python/ops/nn_impl.py:183: where (from tensorflow.python.ops.array_ops) is deprecated and will be removed in a future version.\n",
            "Instructions for updating:\n",
            "Use tf.where in 2.0, which has the same broadcast rule as np.where\n",
            "WARNING:tensorflow:From /usr/local/lib/python3.6/dist-packages/keras/backend/tensorflow_backend.py:1033: The name tf.assign_add is deprecated. Please use tf.compat.v1.assign_add instead.\n",
            "\n",
            "WARNING:tensorflow:From /usr/local/lib/python3.6/dist-packages/keras/backend/tensorflow_backend.py:1020: The name tf.assign is deprecated. Please use tf.compat.v1.assign instead.\n",
            "\n",
            "WARNING:tensorflow:From /usr/local/lib/python3.6/dist-packages/keras/backend/tensorflow_backend.py:3005: The name tf.Session is deprecated. Please use tf.compat.v1.Session instead.\n",
            "\n",
            "Epoch 1/10\n",
            "WARNING:tensorflow:From /usr/local/lib/python3.6/dist-packages/keras/backend/tensorflow_backend.py:190: The name tf.get_default_session is deprecated. Please use tf.compat.v1.get_default_session instead.\n",
            "\n",
            "WARNING:tensorflow:From /usr/local/lib/python3.6/dist-packages/keras/backend/tensorflow_backend.py:197: The name tf.ConfigProto is deprecated. Please use tf.compat.v1.ConfigProto instead.\n",
            "\n",
            "WARNING:tensorflow:From /usr/local/lib/python3.6/dist-packages/keras/backend/tensorflow_backend.py:207: The name tf.global_variables is deprecated. Please use tf.compat.v1.global_variables instead.\n",
            "\n",
            "WARNING:tensorflow:From /usr/local/lib/python3.6/dist-packages/keras/backend/tensorflow_backend.py:216: The name tf.is_variable_initialized is deprecated. Please use tf.compat.v1.is_variable_initialized instead.\n",
            "\n",
            "WARNING:tensorflow:From /usr/local/lib/python3.6/dist-packages/keras/backend/tensorflow_backend.py:223: The name tf.variables_initializer is deprecated. Please use tf.compat.v1.variables_initializer instead.\n",
            "\n",
            "1350955/1350955 [==============================] - 66s 49us/step - loss: 0.0635 - acc: 0.9920\n",
            "Epoch 2/10\n",
            "1350955/1350955 [==============================] - 61s 45us/step - loss: 0.0613 - acc: 0.9917\n",
            "Epoch 3/10\n",
            "1350955/1350955 [==============================] - 62s 46us/step - loss: 0.0662 - acc: 0.9917\n",
            "Epoch 4/10\n",
            "1350955/1350955 [==============================] - 60s 44us/step - loss: 0.0733 - acc: 0.9917\n",
            "Epoch 5/10\n",
            "1350955/1350955 [==============================] - 60s 45us/step - loss: 0.0969 - acc: 0.9917\n",
            "Epoch 6/10\n",
            "1350955/1350955 [==============================] - 60s 44us/step - loss: 0.1182 - acc: 0.9925\n",
            "Epoch 7/10\n",
            "1350955/1350955 [==============================] - 60s 44us/step - loss: 0.1168 - acc: 0.9928\n",
            "Epoch 8/10\n",
            "1350955/1350955 [==============================] - 60s 44us/step - loss: 0.1168 - acc: 0.9928\n",
            "Epoch 9/10\n",
            "1350955/1350955 [==============================] - 60s 45us/step - loss: 0.1168 - acc: 0.9928\n",
            "Epoch 10/10\n",
            "1350955/1350955 [==============================] - 61s 45us/step - loss: 0.1168 - acc: 0.9928\n"
          ],
          "name": "stdout"
        },
        {
          "output_type": "execute_result",
          "data": {
            "text/plain": [
              "<keras.callbacks.History at 0x7fdc878a8d68>"
            ]
          },
          "metadata": {
            "tags": []
          },
          "execution_count": 9
        }
      ]
    },
    {
      "cell_type": "markdown",
      "metadata": {
        "id": "GqousdljcbLU",
        "colab_type": "text"
      },
      "source": [
        "#Salvando o modelo em um arquivo.py"
      ]
    },
    {
      "cell_type": "code",
      "metadata": {
        "id": "J0TmLLgianVi",
        "colab_type": "code",
        "colab": {}
      },
      "source": [
        "#salvando o modelo\n",
        "model.save('previsaodeinventario.model')"
      ],
      "execution_count": 0,
      "outputs": []
    },
    {
      "cell_type": "markdown",
      "metadata": {
        "id": "SXA3vrISciIs",
        "colab_type": "text"
      },
      "source": [
        "##Resumo do aprendizado do modelo para esse Dataset"
      ]
    },
    {
      "cell_type": "code",
      "metadata": {
        "id": "QxIsp6rSRObY",
        "colab_type": "code",
        "colab": {
          "base_uri": "https://localhost:8080/",
          "height": 450
        },
        "outputId": "ae61e3f5-eea1-4a88-a261-645701a66e32"
      },
      "source": [
        "model.summary()\n",
        "#score = model.evaluate(train, test, batch_size=128)"
      ],
      "execution_count": 11,
      "outputs": [
        {
          "output_type": "stream",
          "text": [
            "Model: \"sequential_2\"\n",
            "_________________________________________________________________\n",
            "Layer (type)                 Output Shape              Param #   \n",
            "=================================================================\n",
            "dense_1 (Dense)              (None, 64)                1408      \n",
            "_________________________________________________________________\n",
            "dropout_1 (Dropout)          (None, 64)                0         \n",
            "_________________________________________________________________\n",
            "dense_2 (Dense)              (None, 64)                4160      \n",
            "_________________________________________________________________\n",
            "dropout_2 (Dropout)          (None, 64)                0         \n",
            "_________________________________________________________________\n",
            "dense_3 (Dense)              (None, 64)                4160      \n",
            "_________________________________________________________________\n",
            "dropout_3 (Dropout)          (None, 64)                0         \n",
            "_________________________________________________________________\n",
            "dense_4 (Dense)              (None, 64)                4160      \n",
            "_________________________________________________________________\n",
            "dropout_4 (Dropout)          (None, 64)                0         \n",
            "_________________________________________________________________\n",
            "dense_5 (Dense)              (None, 1)                 65        \n",
            "=================================================================\n",
            "Total params: 13,953\n",
            "Trainable params: 13,953\n",
            "Non-trainable params: 0\n",
            "_________________________________________________________________\n"
          ],
          "name": "stdout"
        }
      ]
    },
    {
      "cell_type": "markdown",
      "metadata": {
        "id": "Ewv7sBTlcmRD",
        "colab_type": "text"
      },
      "source": [
        "##Predizendo a probabilidade de faltar o item (y) "
      ]
    },
    {
      "cell_type": "code",
      "metadata": {
        "id": "iNgBwUG4RQgB",
        "colab_type": "code",
        "colab": {
          "base_uri": "https://localhost:8080/",
          "height": 33
        },
        "outputId": "5b3c3c92-3fd7-4b25-bb2f-67a5a8c9d9e0"
      },
      "source": [
        "#Predição da probabilidade de falta (y) para novos valores\n",
        "y_pred = model.predict_proba(test)[:]\n",
        "\n",
        "print(y_pred.shape)"
      ],
      "execution_count": 12,
      "outputs": [
        {
          "output_type": "stream",
          "text": [
            "(578982, 1)\n"
          ],
          "name": "stdout"
        }
      ]
    },
    {
      "cell_type": "markdown",
      "metadata": {
        "id": "J8KIUF3dctMz",
        "colab_type": "text"
      },
      "source": [
        "##Salvando a predição em um arquivo csv para submissão no Keggle"
      ]
    },
    {
      "cell_type": "code",
      "metadata": {
        "id": "yt9yaiIXRRgq",
        "colab_type": "code",
        "colab": {}
      },
      "source": [
        "#Cria e salva arquivo para submissão\n",
        "test['isBackorder'] = y_pred\n",
        "pred = test['isBackorder'].reset_index()\n",
        "pred.to_csv('submissionKERASv1-2.csv',index=False)"
      ],
      "execution_count": 0,
      "outputs": []
    }
  ]
}