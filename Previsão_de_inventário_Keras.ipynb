{
  "nbformat": 4,
  "nbformat_minor": 0,
  "metadata": {
    "colab": {
      "name": "Previsão de inventário - Keras.ipynb",
      "provenance": [],
      "include_colab_link": true
    },
    "kernelspec": {
      "name": "python3",
      "display_name": "Python 3"
    },
    "accelerator": "GPU"
  },
  "cells": [
    {
      "cell_type": "markdown",
      "metadata": {
        "id": "view-in-github",
        "colab_type": "text"
      },
      "source": [
        "<a href=\"https://colab.research.google.com/github/klysman08/Keggle/blob/master/Previs%C3%A3o_de_invent%C3%A1rio_Keras.ipynb\" target=\"_parent\"><img src=\"https://colab.research.google.com/assets/colab-badge.svg\" alt=\"Open In Colab\"/></a>"
      ]
    },
    {
      "cell_type": "code",
      "metadata": {
        "id": "NRzCula_RFqu",
        "colab_type": "code",
        "colab": {}
      },
      "source": [
        "# Módulos utilizados\n",
        "import numpy as np\n",
        "import pandas as pd\n",
        "\n",
        "from keras.models import Sequential\n",
        "from keras.layers import Dense, Dropout\n",
        "from keras.optimizers import SGD\n"
      ],
      "execution_count": 0,
      "outputs": []
    },
    {
      "cell_type": "code",
      "metadata": {
        "id": "OU7FOmr1RJga",
        "colab_type": "code",
        "colab": {
          "base_uri": "https://localhost:8080/",
          "height": 50
        },
        "outputId": "8a9ae85f-9963-4e3e-82a9-98185c928956"
      },
      "source": [
        "# Leitura dos arquivos, preenchendo valores faltantes com -1\n",
        "train = pd.read_csv('train.csv', index_col='sku').fillna(-1)\n",
        "test = pd.read_csv('test.csv', index_col='sku').fillna(-1)\n"
      ],
      "execution_count": 16,
      "outputs": [
        {
          "output_type": "stream",
          "text": [
            "/usr/local/lib/python3.6/dist-packages/IPython/core/interactiveshell.py:2718: DtypeWarning: Columns (0) have mixed types. Specify dtype option on import or set low_memory=False.\n",
            "  interactivity=interactivity, compiler=compiler, result=result)\n"
          ],
          "name": "stderr"
        }
      ]
    },
    {
      "cell_type": "code",
      "metadata": {
        "id": "uW7LIuAFc95v",
        "colab_type": "code",
        "colab": {
          "base_uri": "https://localhost:8080/",
          "height": 266
        },
        "outputId": "446be208-ff16-4335-b467-30dc4592044f"
      },
      "source": [
        "train.subtract"
      ],
      "execution_count": 17,
      "outputs": [
        {
          "output_type": "execute_result",
          "data": {
            "text/plain": [
              "<bound method _arith_method_FRAME.<locals>.f of          national_inv  lead_time  ...  rev_stop  isBackorder\n",
              "sku                               ...                       \n",
              "1987420           5.0        2.0  ...         0            0\n",
              "2171592          17.0        8.0  ...         0            0\n",
              "3135863          11.0       10.0  ...         0            0\n",
              "3108843           6.0        2.0  ...         0            0\n",
              "2978127         180.0        8.0  ...         0            0\n",
              "...               ...        ...  ...       ...          ...\n",
              "1971041          62.0       -1.0  ...         0            0\n",
              "3331163         784.0        2.0  ...         0            0\n",
              "3403234          26.0       -1.0  ...         0            0\n",
              "1926569           5.0       -1.0  ...         0            0\n",
              "1905173         148.0        9.0  ...         0            0\n",
              "\n",
              "[1350955 rows x 22 columns]>"
            ]
          },
          "metadata": {
            "tags": []
          },
          "execution_count": 17
        }
      ]
    },
    {
      "cell_type": "code",
      "metadata": {
        "id": "tG8R1uOVRLVn",
        "colab_type": "code",
        "colab": {}
      },
      "source": [
        "# Separação de atributos de entrada (X) e saída (y)\n",
        "X_train, y_train = train.drop('isBackorder', axis=1), train['isBackorder']"
      ],
      "execution_count": 0,
      "outputs": []
    },
    {
      "cell_type": "code",
      "metadata": {
        "id": "smC5X-FIVRxE",
        "colab_type": "code",
        "colab": {
          "base_uri": "https://localhost:8080/",
          "height": 300
        },
        "outputId": "9fbc9a3b-899f-4800-973d-08d4102210eb"
      },
      "source": [
        "print(X_train.shape)\n",
        "print(y_train.shape)\n",
        "print(test)"
      ],
      "execution_count": 19,
      "outputs": [
        {
          "output_type": "stream",
          "text": [
            "(1350955, 21)\n",
            "(1350955,)\n",
            "         national_inv  lead_time  ...  stop_auto_buy  rev_stop\n",
            "sku                               ...                         \n",
            "3464610          46.0        8.0  ...              1         0\n",
            "2949993         248.0        4.0  ...              0         0\n",
            "1335649           3.0        4.0  ...              1         0\n",
            "3178597          13.0        2.0  ...              1         0\n",
            "1885965          46.0        8.0  ...              1         0\n",
            "...               ...        ...  ...            ...       ...\n",
            "1184635         230.0        2.0  ...              1         0\n",
            "1937512           5.0        8.0  ...              1         0\n",
            "1658698           9.0       -1.0  ...              1         0\n",
            "1365873           9.0        2.0  ...              1         0\n",
            "1225032           3.0        4.0  ...              1         0\n",
            "\n",
            "[578982 rows x 21 columns]\n"
          ],
          "name": "stdout"
        }
      ]
    },
    {
      "cell_type": "code",
      "metadata": {
        "id": "N24RoIJLRMW_",
        "colab_type": "code",
        "colab": {
          "base_uri": "https://localhost:8080/",
          "height": 200
        },
        "outputId": "7d176b17-c4db-48a9-e0f4-de19960c7784"
      },
      "source": [
        "# Ajuste do modelo de sequencial\n",
        "model = Sequential()\n",
        "\n",
        "\n",
        "model = Sequential()\n",
        "model.add(Dense(64, input_dim=21, activation='relu'))\n",
        "model.add(Dropout(0.5))\n",
        "model.add(Dense(64, activation='relu'))\n",
        "model.add(Dropout(0.5))\n",
        "model.add(Dense(64, activation='relu'))\n",
        "model.add(Dropout(0.5))\n",
        "model.add(Dense(1, activation='sigmoid'))\n",
        "\n",
        "model.compile(loss='binary_crossentropy',\n",
        "              optimizer='rmsprop',\n",
        "              metrics=['accuracy'])\n",
        "\n",
        "model.fit(X_train, y_train,\n",
        "          epochs=5,\n",
        "          batch_size=128)"
      ],
      "execution_count": 20,
      "outputs": [
        {
          "output_type": "stream",
          "text": [
            "Epoch 1/5\n",
            "1350955/1350955 [==============================] - 56s 41us/step - loss: 0.0578 - acc: 0.9921\n",
            "Epoch 2/5\n",
            "1350955/1350955 [==============================] - 55s 41us/step - loss: 0.0524 - acc: 0.9923\n",
            "Epoch 3/5\n",
            "1350955/1350955 [==============================] - 55s 41us/step - loss: 0.0536 - acc: 0.9922\n",
            "Epoch 4/5\n",
            "1350955/1350955 [==============================] - 56s 41us/step - loss: 0.0553 - acc: 0.9922\n",
            "Epoch 5/5\n",
            "1350955/1350955 [==============================] - 56s 42us/step - loss: 0.0568 - acc: 0.9922\n"
          ],
          "name": "stdout"
        },
        {
          "output_type": "execute_result",
          "data": {
            "text/plain": [
              "<keras.callbacks.History at 0x7feaf918acc0>"
            ]
          },
          "metadata": {
            "tags": []
          },
          "execution_count": 20
        }
      ]
    },
    {
      "cell_type": "code",
      "metadata": {
        "id": "QxIsp6rSRObY",
        "colab_type": "code",
        "colab": {
          "base_uri": "https://localhost:8080/",
          "height": 383
        },
        "outputId": "dea669fa-5415-46d9-a42d-fc359db9fcec"
      },
      "source": [
        "model.summary()\n",
        "#score = model.evaluate(train, test, batch_size=128)"
      ],
      "execution_count": 21,
      "outputs": [
        {
          "output_type": "stream",
          "text": [
            "Model: \"sequential_4\"\n",
            "_________________________________________________________________\n",
            "Layer (type)                 Output Shape              Param #   \n",
            "=================================================================\n",
            "dense_4 (Dense)              (None, 64)                1408      \n",
            "_________________________________________________________________\n",
            "dropout_3 (Dropout)          (None, 64)                0         \n",
            "_________________________________________________________________\n",
            "dense_5 (Dense)              (None, 64)                4160      \n",
            "_________________________________________________________________\n",
            "dropout_4 (Dropout)          (None, 64)                0         \n",
            "_________________________________________________________________\n",
            "dense_6 (Dense)              (None, 64)                4160      \n",
            "_________________________________________________________________\n",
            "dropout_5 (Dropout)          (None, 64)                0         \n",
            "_________________________________________________________________\n",
            "dense_7 (Dense)              (None, 1)                 65        \n",
            "=================================================================\n",
            "Total params: 9,793\n",
            "Trainable params: 9,793\n",
            "Non-trainable params: 0\n",
            "_________________________________________________________________\n"
          ],
          "name": "stdout"
        }
      ]
    },
    {
      "cell_type": "code",
      "metadata": {
        "id": "iNgBwUG4RQgB",
        "colab_type": "code",
        "colab": {
          "base_uri": "https://localhost:8080/",
          "height": 33
        },
        "outputId": "ab30f29c-d009-4d1e-b130-c11a27827b4f"
      },
      "source": [
        "#Predição da probabilidade de falta (y) para novos valores\n",
        "y_pred = model.predict_proba(test)[:]\n",
        "\n",
        "print(y_pred.shape)"
      ],
      "execution_count": 22,
      "outputs": [
        {
          "output_type": "stream",
          "text": [
            "(578982, 1)\n"
          ],
          "name": "stdout"
        }
      ]
    },
    {
      "cell_type": "code",
      "metadata": {
        "id": "yt9yaiIXRRgq",
        "colab_type": "code",
        "colab": {}
      },
      "source": [
        "#Cria e salva arquivo para submissão\n",
        "test['isBackorder'] = y_pred\n",
        "pred = test['isBackorder'].reset_index()\n",
        "pred.to_csv('submissionKERASv1-2.csv',index=False)"
      ],
      "execution_count": 0,
      "outputs": []
    }
  ]
}