{
  "nbformat": 4,
  "nbformat_minor": 0,
  "metadata": {
    "language_info": {
      "name": "python",
      "version": "3.6.6",
      "mimetype": "text/x-python",
      "codemirror_mode": {
        "name": "ipython",
        "version": 3
      },
      "pygments_lexer": "ipython3",
      "nbconvert_exporter": "python",
      "file_extension": ".py"
    },
    "kernelspec": {
      "name": "python3",
      "display_name": "Python 3"
    },
    "colab": {
      "name": "Previsão de inventário - MLPClassifier PCA.ipynb",
      "provenance": [],
      "include_colab_link": true
    },
    "accelerator": "GPU"
  },
  "cells": [
    {
      "cell_type": "markdown",
      "metadata": {
        "id": "view-in-github",
        "colab_type": "text"
      },
      "source": [
        "<a href=\"https://colab.research.google.com/github/klysman08/Keggle/blob/master/Previs%C3%A3o_de_invent%C3%A1rio_MLPClassifier_PCA.ipynb\" target=\"_parent\"><img src=\"https://colab.research.google.com/assets/colab-badge.svg\" alt=\"Open In Colab\"/></a>"
      ]
    },
    {
      "cell_type": "code",
      "metadata": {
        "_uuid": "5911787e-f8c1-4744-9d1a-b37fddabfa1f",
        "_cell_guid": "0e072ec5-6c75-4fb7-bcce-9588c417d663",
        "trusted": true,
        "id": "vrPgFzsdDFhG",
        "colab_type": "code",
        "colab": {}
      },
      "source": [
        "0# Módulos utilizados\n",
        "import pandas as pd\n",
        "import numpy as np\n",
        "import matplotlib.pyplot as plt\n",
        "import seaborn as sns\n",
        "from sklearn.neural_network import MLPClassifier"
      ],
      "execution_count": 0,
      "outputs": []
    },
    {
      "cell_type": "code",
      "metadata": {
        "id": "N1pI803LBoMh",
        "colab_type": "code",
        "outputId": "bafb2910-7b31-4ca8-e880-6a5c1e4e5f9a",
        "colab": {
          "base_uri": "https://localhost:8080/",
          "height": 120
        }
      },
      "source": [
        "from google.colab import drive\n",
        "drive.mount('/content/drive')"
      ],
      "execution_count": 2,
      "outputs": [
        {
          "output_type": "stream",
          "text": [
            "Go to this URL in a browser: https://accounts.google.com/o/oauth2/auth?client_id=947318989803-6bn6qk8qdgf4n4g3pfee6491hc0brc4i.apps.googleusercontent.com&redirect_uri=urn%3aietf%3awg%3aoauth%3a2.0%3aoob&response_type=code&scope=email%20https%3a%2f%2fwww.googleapis.com%2fauth%2fdocs.test%20https%3a%2f%2fwww.googleapis.com%2fauth%2fdrive%20https%3a%2f%2fwww.googleapis.com%2fauth%2fdrive.photos.readonly%20https%3a%2f%2fwww.googleapis.com%2fauth%2fpeopleapi.readonly\n",
            "\n",
            "Enter your authorization code:\n",
            "··········\n",
            "Mounted at /content/drive\n"
          ],
          "name": "stdout"
        }
      ]
    },
    {
      "cell_type": "code",
      "metadata": {
        "trusted": true,
        "id": "o3x3vshSDFhK",
        "colab_type": "code",
        "outputId": "c8c08436-5754-4ba9-e971-329e38bb7774",
        "colab": {
          "base_uri": "https://localhost:8080/",
          "height": 70
        }
      },
      "source": [
        "# Leitura dos arquivos, preenchendo valores faltantes com -1\n",
        "train = pd.read_csv('drive/My Drive/Machine Learning/Previsão de inventário/train.csv', index_col='sku').fillna(-1)\n",
        "test = pd.read_csv('drive/My Drive/Machine Learning/Previsão de inventário/test.csv', index_col='sku').fillna(-1)"
      ],
      "execution_count": 3,
      "outputs": [
        {
          "output_type": "stream",
          "text": [
            "/usr/local/lib/python3.6/dist-packages/IPython/core/interactiveshell.py:2718: DtypeWarning: Columns (0) have mixed types. Specify dtype option on import or set low_memory=False.\n",
            "  interactivity=interactivity, compiler=compiler, result=result)\n"
          ],
          "name": "stderr"
        }
      ]
    },
    {
      "cell_type": "code",
      "metadata": {
        "trusted": true,
        "id": "-95T7KwxDFhN",
        "colab_type": "code",
        "colab": {}
      },
      "source": [
        "# Separação de atributos de entrada (X) e saída (y)\n",
        "X_train, y_train = train.drop('isBackorder', axis=1), train['isBackorder']"
      ],
      "execution_count": 0,
      "outputs": []
    },
    {
      "cell_type": "code",
      "metadata": {
        "id": "ynBbvEMDWYfM",
        "colab_type": "code",
        "outputId": "b3f94b82-2248-4183-d78b-494586788a81",
        "colab": {
          "base_uri": "https://localhost:8080/",
          "height": 133
        }
      },
      "source": [
        "X_train.values"
      ],
      "execution_count": 5,
      "outputs": [
        {
          "output_type": "execute_result",
          "data": {
            "text/plain": [
              "array([[  5.,   2.,   0., ...,   0.,   1.,   0.],\n",
              "       [ 17.,   8.,   0., ...,   0.,   1.,   0.],\n",
              "       [ 11.,  10.,   0., ...,   0.,   1.,   0.],\n",
              "       ...,\n",
              "       [ 26.,  -1.,   0., ...,   1.,   0.,   0.],\n",
              "       [  5.,  -1.,   0., ...,   0.,   1.,   0.],\n",
              "       [148.,   9.,   0., ...,   0.,   1.,   0.]])"
            ]
          },
          "metadata": {
            "tags": []
          },
          "execution_count": 5
        }
      ]
    },
    {
      "cell_type": "code",
      "metadata": {
        "id": "E6pNNOo0Rr1h",
        "colab_type": "code",
        "outputId": "2d818ff5-829a-461b-9db6-6115ad4277a4",
        "colab": {
          "base_uri": "https://localhost:8080/",
          "height": 50
        }
      },
      "source": [
        "\n",
        "from sklearn.decomposition import PCA\n",
        "pca = PCA(n_components=4)\n",
        "pca.fit(X_train.values)  \n",
        "\n",
        "\n",
        "print(pca.explained_variance_ratio_)  \n",
        "\n",
        "print(pca.singular_values_)  "
      ],
      "execution_count": 6,
      "outputs": [
        {
          "output_type": "stream",
          "text": [
            "[0.58545493 0.38604383 0.02250401 0.00363459]\n",
            "[34483924.52917003 28001948.96878019  6760828.40568139  2717051.33014926]\n"
          ],
          "name": "stdout"
        }
      ]
    },
    {
      "cell_type": "code",
      "metadata": {
        "id": "JPMeJyvGXQbM",
        "colab_type": "code",
        "colab": {}
      },
      "source": [
        "X_train_pca = pd.DataFrame(pca.transform(X_train))"
      ],
      "execution_count": 0,
      "outputs": []
    },
    {
      "cell_type": "code",
      "metadata": {
        "id": "cpba7rb4BCN1",
        "colab_type": "code",
        "outputId": "a918f066-c1ea-48a5-853c-12689937be21",
        "colab": {
          "base_uri": "https://localhost:8080/",
          "height": 595
        }
      },
      "source": [
        "plt.figure(figsize=(12,10))\n",
        "cor = X_train_pca.corr()\n",
        "sns.heatmap(cor, annot=True, cmap=plt.cm.Reds)\n",
        "plt.show()"
      ],
      "execution_count": 8,
      "outputs": [
        {
          "output_type": "display_data",
          "data": {
            "image/png": "[encoded data removed]",
            "text/plain": [
              "<Figure size 864x720 with 2 Axes>"
            ]
          },
          "metadata": {
            "tags": []
          }
        }
      ]
    },
    {
      "cell_type": "code",
      "metadata": {
        "id": "3kVRJik8C5kf",
        "colab_type": "code",
        "outputId": "b0468b70-0627-4f18-a011-cbf5fd810a42",
        "colab": {
          "base_uri": "https://localhost:8080/",
          "height": 33
        }
      },
      "source": [
        "X_train_pca.columns"
      ],
      "execution_count": 9,
      "outputs": [
        {
          "output_type": "execute_result",
          "data": {
            "text/plain": [
              "RangeIndex(start=0, stop=4, step=1)"
            ]
          },
          "metadata": {
            "tags": []
          },
          "execution_count": 9
        }
      ]
    },
    {
      "cell_type": "code",
      "metadata": {
        "trusted": true,
        "id": "X-bjb7uSDFhR",
        "colab_type": "code",
        "outputId": "2a41d7ce-43ed-4a6e-f8df-2e53615fe13a",
        "colab": {
          "base_uri": "https://localhost:8080/",
          "height": 916
        }
      },
      "source": [
        "# Ajuste do modelo\n",
        "from sklearn.ensemble import RandomForestClassifier\n",
        "model = MLPClassifier(hidden_layer_sizes=(30,20,20,10,10), activation='relu',alpha=0.0001, learning_rate='adaptive', solver='adam', random_state=42, max_iter=200, shuffle=True, verbose=True,)\n",
        "model.fit(X_train_pca, y_train)"
      ],
      "execution_count": 10,
      "outputs": [
        {
          "output_type": "stream",
          "text": [
            "Iteration 1, loss = inf\n",
            "Iteration 2, loss = 0.04058394\n",
            "Iteration 3, loss = 0.04110633\n",
            "Iteration 4, loss = 0.04025835\n",
            "Iteration 5, loss = 0.03875650\n",
            "Iteration 6, loss = 0.03807793\n",
            "Iteration 7, loss = 0.03810623\n",
            "Iteration 8, loss = 0.03841258\n",
            "Iteration 9, loss = 0.03702742\n",
            "Iteration 10, loss = 0.03623276\n",
            "Iteration 11, loss = 0.03632325\n",
            "Iteration 12, loss = 0.03608577\n",
            "Iteration 13, loss = 0.03635319\n",
            "Iteration 14, loss = 0.03583441\n",
            "Iteration 15, loss = 0.03585534\n",
            "Iteration 16, loss = inf\n",
            "Iteration 17, loss = 0.03556871\n",
            "Iteration 18, loss = inf\n",
            "Iteration 19, loss = 0.03550077\n",
            "Iteration 20, loss = inf\n",
            "Iteration 21, loss = 0.03522832\n",
            "Iteration 22, loss = 0.03514549\n",
            "Iteration 23, loss = 0.03481733\n",
            "Iteration 24, loss = inf\n",
            "Iteration 25, loss = 0.03461773\n",
            "Iteration 26, loss = 0.03455696\n",
            "Iteration 27, loss = inf\n",
            "Iteration 28, loss = 0.03435663\n",
            "Iteration 29, loss = 0.03433188\n",
            "Iteration 30, loss = 0.03449127\n",
            "Iteration 31, loss = inf\n",
            "Iteration 32, loss = 0.03434593\n",
            "Iteration 33, loss = inf\n",
            "Iteration 34, loss = inf\n",
            "Iteration 35, loss = 0.03386301\n",
            "Iteration 36, loss = 0.03395745\n",
            "Iteration 37, loss = 0.03393854\n",
            "Iteration 38, loss = 0.03393542\n",
            "Iteration 39, loss = 0.03436088\n",
            "Iteration 40, loss = 0.03392490\n",
            "Iteration 41, loss = 0.03392633\n",
            "Iteration 42, loss = 0.03388307\n",
            "Iteration 43, loss = 0.03383814\n",
            "Iteration 44, loss = 0.03379361\n",
            "Iteration 45, loss = 0.03374699\n",
            "Iteration 46, loss = 0.03374964\n",
            "Training loss did not improve more than tol=0.000100 for 10 consecutive epochs. Stopping.\n"
          ],
          "name": "stdout"
        },
        {
          "output_type": "execute_result",
          "data": {
            "text/plain": [
              "MLPClassifier(activation='relu', alpha=0.0001, batch_size='auto', beta_1=0.9,\n",
              "              beta_2=0.999, early_stopping=False, epsilon=1e-08,\n",
              "              hidden_layer_sizes=(30, 20, 20, 10, 10), learning_rate='adaptive',\n",
              "              learning_rate_init=0.001, max_iter=200, momentum=0.9,\n",
              "              n_iter_no_change=10, nesterovs_momentum=True, power_t=0.5,\n",
              "              random_state=42, shuffle=True, solver='adam', tol=0.0001,\n",
              "              validation_fraction=0.1, verbose=True, warm_start=False)"
            ]
          },
          "metadata": {
            "tags": []
          },
          "execution_count": 10
        }
      ]
    },
    {
      "cell_type": "code",
      "metadata": {
        "id": "-t3egMwaf6V5",
        "colab_type": "code",
        "colab": {}
      },
      "source": [
        "test_pca = pd.DataFrame(pca.transform(test))"
      ],
      "execution_count": 0,
      "outputs": []
    },
    {
      "cell_type": "code",
      "metadata": {
        "trusted": true,
        "id": "Vv6mtIPDDFhU",
        "colab_type": "code",
        "colab": {}
      },
      "source": [
        "# Predição da probabilidade de falta (y) para novos valores\n",
        "y_pred = model.predict_proba(test_pca)[:,1]"
      ],
      "execution_count": 0,
      "outputs": []
    },
    {
      "cell_type": "code",
      "metadata": {
        "trusted": true,
        "id": "pB8yTWcDDFhX",
        "colab_type": "code",
        "colab": {}
      },
      "source": [
        "# Cria e salva arquivo para submissão\n",
        "test['isBackorder'] = y_pred\n",
        "pred = test['isBackorder'].reset_index()\n",
        "pred.to_csv('submissionPCAv1.3.csv',index=False)"
      ],
      "execution_count": 0,
      "outputs": []
    }
  ]
}