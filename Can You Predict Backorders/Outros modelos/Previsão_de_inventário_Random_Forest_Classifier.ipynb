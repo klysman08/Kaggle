{
  "nbformat": 4,
  "nbformat_minor": 0,
  "metadata": {
    "language_info": {
      "name": "python",
      "version": "3.6.6",
      "mimetype": "text/x-python",
      "codemirror_mode": {
        "name": "ipython",
        "version": 3
      },
      "pygments_lexer": "ipython3",
      "nbconvert_exporter": "python",
      "file_extension": ".py"
    },
    "kernelspec": {
      "display_name": "Python 3",
      "language": "python",
      "name": "python3"
    },
    "colab": {
      "name": "Previsão de inventário - Random Forest Classifier.ipynb",
      "provenance": [],
      "include_colab_link": true
    }
  },
  "cells": [
    {
      "cell_type": "markdown",
      "metadata": {
        "id": "view-in-github",
        "colab_type": "text"
      },
      "source": [
        "<a href=\"https://colab.research.google.com/github/klysman08/Keggle/blob/master/Previs%C3%A3o_de_invent%C3%A1rio_Random_Forest_Classifier.ipynb\" target=\"_parent\"><img src=\"https://colab.research.google.com/assets/colab-badge.svg\" alt=\"Open In Colab\"/></a>"
      ]
    },
    {
      "cell_type": "code",
      "metadata": {
        "_uuid": "5911787e-f8c1-4744-9d1a-b37fddabfa1f",
        "_cell_guid": "0e072ec5-6c75-4fb7-bcce-9588c417d663",
        "trusted": true,
        "id": "18eC4saeDGgA",
        "colab_type": "code",
        "colab": {}
      },
      "source": [
        "# Módulos utilizados\n",
        "import pandas as pd\n",
        "import numpy as np\n",
        "#import matplotlib.pyplot as plt\n",
        "\n",
        "from sklearn.ensemble import RandomForestClassifier\n",
        "#from sklearn.datasets import make_classification\n",
        "#from sklearn.svm import SVC\n",
        "\n",
        "\n",
        "#from sklearn.neural_network import MLPClassifier"
      ],
      "execution_count": 0,
      "outputs": []
    },
    {
      "cell_type": "code",
      "metadata": {
        "trusted": true,
        "id": "GHymzLjaDGgD",
        "colab_type": "code",
        "colab": {}
      },
      "source": [
        "# Leitura dos arquivos, preenchendo valores faltantes com -1\n",
        "train = pd.read_csv('../input/train.csv', index_col='sku').fillna(-1)\n",
        "test = pd.read_csv('../input/test.csv', index_col='sku').fillna(-1)"
      ],
      "execution_count": 0,
      "outputs": []
    },
    {
      "cell_type": "code",
      "metadata": {
        "trusted": true,
        "id": "BsItgCeaDGgF",
        "colab_type": "code",
        "colab": {}
      },
      "source": [
        "# Separação de atributos de entrada (X) e saída (y)\n",
        "X_train, y_train = train.drop('isBackorder', axis=1), train['isBackorder']"
      ],
      "execution_count": 0,
      "outputs": []
    },
    {
      "cell_type": "code",
      "metadata": {
        "trusted": true,
        "id": "R1LvnA8uDGgH",
        "colab_type": "code",
        "colab": {}
      },
      "source": [
        "# Ajuste do modelo de Regressão Logística\n",
        "model = RandomForestClassifier(n_estimators=30, random_state=64)\n",
        "model.fit(X_train, y_train)"
      ],
      "execution_count": 0,
      "outputs": []
    },
    {
      "cell_type": "code",
      "metadata": {
        "trusted": true,
        "id": "OU6ea74BDGgJ",
        "colab_type": "code",
        "colab": {}
      },
      "source": [
        "# Predição da probabilidade de falta (y) para novos valores\n",
        "y_pred = model.predict_proba(test)[:,1]"
      ],
      "execution_count": 0,
      "outputs": []
    },
    {
      "cell_type": "code",
      "metadata": {
        "trusted": true,
        "id": "0QT-DZKMDGgL",
        "colab_type": "code",
        "colab": {}
      },
      "source": [
        "# Cria e salva arquivo para submissão\n",
        "test['isBackorder'] = y_pred\n",
        "pred = test['isBackorder'].reset_index()\n",
        "pred.to_csv('submissionML2-1.csv',index=False)"
      ],
      "execution_count": 0,
      "outputs": []
    }
  ]
}